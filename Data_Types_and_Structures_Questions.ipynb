{
  "nbformat": 4,
  "nbformat_minor": 0,
  "metadata": {
    "colab": {
      "provenance": []
    },
    "kernelspec": {
      "name": "python3",
      "display_name": "Python 3"
    },
    "language_info": {
      "name": "python"
    }
  },
  "cells": [
    {
      "cell_type": "markdown",
      "source": [
        "Q1. What are data structures, and why are they important?\n",
        "\n",
        "Ans: Data structures are ways to organize and store data efficiently, enabling effective access, modification, and management of the data. They are important because they help optimize resource usage, improve performance, and simplify problem-solving for various computational tasks."
      ],
      "metadata": {
        "id": "YZfJiv03bgvg"
      }
    },
    {
      "cell_type": "markdown",
      "source": [
        "Q2. Explain the difference between mutable and immutable data types with examples.\n",
        "\n",
        "Ans:"
      ],
      "metadata": {
        "id": "tIjW6uoHbygJ"
      }
    },
    {
      "cell_type": "markdown",
      "source": [
        "Mutable: Can be modified after creation (e.g., list, dict, set).\n",
        "Example:"
      ],
      "metadata": {
        "id": "zKlaj-5AhluO"
      }
    },
    {
      "cell_type": "code",
      "source": [
        "my_list = [1, 2, 3]\n",
        "my_list.append(4)  # Modifies the list"
      ],
      "metadata": {
        "id": "e_qF3wPXhpI9"
      },
      "execution_count": null,
      "outputs": []
    },
    {
      "cell_type": "code",
      "source": [
        "my_list"
      ],
      "metadata": {
        "colab": {
          "base_uri": "https://localhost:8080/"
        },
        "id": "bYRVBqELZckY",
        "outputId": "f4adfc15-7801-48bd-b1a6-015c53fe5006"
      },
      "execution_count": null,
      "outputs": [
        {
          "output_type": "execute_result",
          "data": {
            "text/plain": [
              "[1, 2, 3, 4]"
            ]
          },
          "metadata": {},
          "execution_count": 2
        }
      ]
    },
    {
      "cell_type": "markdown",
      "source": [
        "Immutable: Cannot be modified after creation (e.g., tuple, string, int).\n",
        "Example:"
      ],
      "metadata": {
        "id": "l6wo7vZCh_pu"
      }
    },
    {
      "cell_type": "code",
      "source": [
        "my_tuple = (1, 2, 3)\n",
        "# my_tuple[0] = 4  # This will raise an error"
      ],
      "metadata": {
        "id": "U3FEFdtbiHAM"
      },
      "execution_count": null,
      "outputs": []
    },
    {
      "cell_type": "code",
      "source": [
        "my_tuple"
      ],
      "metadata": {
        "colab": {
          "base_uri": "https://localhost:8080/",
          "height": 141
        },
        "id": "PyPanH8TZitg",
        "outputId": "c7b92e16-1e08-43e2-8f11-db9724a9db0e"
      },
      "execution_count": 2,
      "outputs": [
        {
          "output_type": "error",
          "ename": "NameError",
          "evalue": "name 'my_tuple' is not defined",
          "traceback": [
            "\u001b[0;31m---------------------------------------------------------------------------\u001b[0m",
            "\u001b[0;31mNameError\u001b[0m                                 Traceback (most recent call last)",
            "\u001b[0;32m<ipython-input-2-04b36b148cc9>\u001b[0m in \u001b[0;36m<cell line: 1>\u001b[0;34m()\u001b[0m\n\u001b[0;32m----> 1\u001b[0;31m \u001b[0mmy_tuple\u001b[0m\u001b[0;34m\u001b[0m\u001b[0;34m\u001b[0m\u001b[0m\n\u001b[0m",
            "\u001b[0;31mNameError\u001b[0m: name 'my_tuple' is not defined"
          ]
        }
      ]
    },
    {
      "cell_type": "markdown",
      "source": [
        "Q3. What are the main differences between lists and tuples in Python?\n",
        "\n",
        "Ans: The main differences between lists and tuples in Python is that Lists are Mutable whereas Tuples are Immutable. List uses Square brackets [ ] and Tuple uses Parentheses ( ). Performance of Lists are Slower (mutable overhead) & performance of Tuple is Faster (immutable). Lists are Dynamic means frequently changing is possible where as Tuples are Fixed which means it is always in constant collection mode."
      ],
      "metadata": {
        "id": "R9WExOm_iTkQ"
      }
    },
    {
      "cell_type": "markdown",
      "source": [
        "Q4. Describe how dictionaries store data.\n",
        "\n",
        "Ans: Dictionaries store data in key-value pairs using a hash table internally. Keys are hashed to generate a unique index, allowing for efficient lookup, insertion, and deletion."
      ],
      "metadata": {
        "id": "dBsbIw0fjLTh"
      }
    },
    {
      "cell_type": "markdown",
      "source": [
        "Q5. Why might you use a set instead of a list in Python?\n",
        "\n",
        "Ans: • To store unique values (no duplicates).\n",
        "\n",
        "• For faster membership testing (in operator).\n",
        "\n",
        "• For set operations like union, intersection, and difference."
      ],
      "metadata": {
        "id": "_y3FE0Q-jaC6"
      }
    },
    {
      "cell_type": "markdown",
      "source": [
        "Q6. What is a string in Python, and how is it different from a list?\n",
        "\n",
        "Ans: A string is an immutable sequence of characters, while a list is a mutable sequence of objects (of any type).\n",
        "Example:"
      ],
      "metadata": {
        "id": "eU3ceoiAkPoP"
      }
    },
    {
      "cell_type": "code",
      "source": [
        "string_example = \"hello\"\n",
        "list_example = ['h', 'e', 'l', 'l', 'o']"
      ],
      "metadata": {
        "id": "Tn_AfiuIkX7x"
      },
      "execution_count": 1,
      "outputs": []
    },
    {
      "cell_type": "markdown",
      "source": [
        "Q7. How do tuples ensure data integrity in Python?\n",
        "\n",
        "Ans: Tuples are immutable, meaning their contents cannot be changed after creation. This ensures that the data remains consistent and unmodified."
      ],
      "metadata": {
        "id": "Pc3_XQXakd3Q"
      }
    },
    {
      "cell_type": "markdown",
      "source": [
        "Q8. What is a hash table, and how does it relate to dictionaries in Python?\n",
        "\n",
        "Ans: A hash table is a data structure that maps keys to values using a hash function. Python dictionaries use hash tables for fast key-based data retrieval."
      ],
      "metadata": {
        "id": "bK0fo8fjkm0G"
      }
    },
    {
      "cell_type": "markdown",
      "source": [
        "Q9. Can lists contain different data types in Python?\n",
        "\n",
        "Yes, lists can store elements of different data types.\n",
        "Example:"
      ],
      "metadata": {
        "id": "Zsmc7wShkyxE"
      }
    },
    {
      "cell_type": "code",
      "source": [
        "mixed_list = [1, \"string\", 3.14, True]"
      ],
      "metadata": {
        "id": "rbrq_m_AZUwu"
      },
      "execution_count": null,
      "outputs": []
    },
    {
      "cell_type": "markdown",
      "source": [
        "Q10. Explain why strings are immutable in Python.\n",
        "\n",
        "Ans: Strings are immutable to ensure hashability (used in sets and dictionaries) and thread safety, making them more reliable in concurrent programming."
      ],
      "metadata": {
        "id": "sbgB_PHxZW2O"
      }
    },
    {
      "cell_type": "markdown",
      "source": [
        "Q11. What advantages do dictionaries offer over lists for certain tasks?\n",
        "\n",
        "\n",
        "Ans: Faster lookups: Direct key access vs. searching a list.\n",
        "\n",
        "Key-value storage: More descriptive and organized data representation."
      ],
      "metadata": {
        "id": "VvLfFMPqaUkr"
      }
    },
    {
      "cell_type": "markdown",
      "source": [
        "Q12. Describe a scenario where using a tuple would be preferable over a list.\n",
        "\n",
        "Ans:\n",
        "When storing fixed data like coordinates (x, y) or database records where immutability is required."
      ],
      "metadata": {
        "id": "b71KSjdAbbfb"
      }
    },
    {
      "cell_type": "markdown",
      "source": [
        "Q13. How do sets handle duplicate values in Python?\n",
        "\n",
        "Ans:\n",
        "Sets automatically remove duplicate values.\n",
        "Example:"
      ],
      "metadata": {
        "id": "wsF_camoZTD1"
      }
    },
    {
      "cell_type": "code",
      "source": [
        "s = {1, 2, 2, 3}\n",
        "print(s)"
      ],
      "metadata": {
        "colab": {
          "base_uri": "https://localhost:8080/"
        },
        "id": "2wNegZewZcMG",
        "outputId": "3297f997-1664-4445-b2e4-618b9d62173e"
      },
      "execution_count": null,
      "outputs": [
        {
          "output_type": "stream",
          "name": "stdout",
          "text": [
            "{1, 2, 3}\n"
          ]
        }
      ]
    },
    {
      "cell_type": "markdown",
      "source": [
        "Q14. How does the \"in\" keyword work differently for lists and dictionaries?\n",
        "\n",
        "Ans:\n",
        "List: Checks for the presence of an element.\n",
        "\n",
        "Dictionary: Checks for the presence of a key."
      ],
      "metadata": {
        "id": "4_rIX-PAZhpS"
      }
    },
    {
      "cell_type": "markdown",
      "source": [
        "Q15. Can you modify the elements of a tuple? Explain why or why not.\n",
        "\n",
        "Ans:\n",
        "No, tuples are immutable, so their elements cannot be modified after creation. This ensures data integrity."
      ],
      "metadata": {
        "id": "-GpovysUZwME"
      }
    },
    {
      "cell_type": "markdown",
      "source": [
        "Q16. What is a nested dictionary, and give an example of its use case?\n",
        "\n",
        "Ans:\n",
        "A nested dictionary is a dictionary containing another dictionary as a value.\n",
        "\n",
        "Example:"
      ],
      "metadata": {
        "id": "C7E1QUNeZ3bn"
      }
    },
    {
      "cell_type": "code",
      "source": [
        "students = {\n",
        "    \"Alice\": {\"Math\": 85, \"Science\": 90},\n",
        "    \"Bob\": {\"Math\": 78, \"Science\": 88}\n",
        "}"
      ],
      "metadata": {
        "id": "5wqs3fE6Z-fu"
      },
      "execution_count": null,
      "outputs": []
    },
    {
      "cell_type": "markdown",
      "source": [
        "Q17. Describe the time complexity of accessing elements in a dictionary.\n",
        "\n",
        "Ans:\n",
        "Accessing elements in a dictionary has an average time complexity of O(1) due to the use of hash tables."
      ],
      "metadata": {
        "id": "YuXfBBdjaOUA"
      }
    },
    {
      "cell_type": "markdown",
      "source": [
        "Q18. In what situations are lists preferred over dictionaries?\n",
        "\n",
        "Ans:\n",
        "When order matters (lists maintain order).\n",
        "When the data doesn’t have a natural key-value structure."
      ],
      "metadata": {
        "id": "JSMf1ic7aUiw"
      }
    },
    {
      "cell_type": "markdown",
      "source": [
        "Q19. Why are dictionaries considered unordered, and how does that affect data retrieval?\n",
        "\n",
        "Ans:\n",
        "Dictionaries are considered unordered because the order of keys is based on their hash values. This means you cannot rely on the insertion order (before Python 3.7)."
      ],
      "metadata": {
        "id": "os7TvcLmahEg"
      }
    },
    {
      "cell_type": "markdown",
      "source": [
        "Q20. Explain the difference between a list and a dictionary in terms of data retrieval.\n",
        "\n",
        "Ans:\n",
        "List: Data is accessed using indices (O(n) for searching).\n",
        "Dictionary: Data is accessed using keys (O(1) average)."
      ],
      "metadata": {
        "id": "DKLLFrWwa6go"
      }
    },
    {
      "cell_type": "markdown",
      "source": [
        "# **Practical Questions**"
      ],
      "metadata": {
        "id": "RhEkZEWJbDcI"
      }
    },
    {
      "cell_type": "markdown",
      "source": [
        "Q1. Write a code to create a string with your name and print it.\n",
        "\n",
        "Ans:"
      ],
      "metadata": {
        "id": "6YP0-VKabJTs"
      }
    },
    {
      "cell_type": "code",
      "source": [
        "name = \"John Doe\"\n",
        "print(name)\n"
      ],
      "metadata": {
        "colab": {
          "base_uri": "https://localhost:8080/"
        },
        "id": "k4G4Q88MbPI2",
        "outputId": "083908cc-f4c7-4e1c-ba89-ad68ac6f1752"
      },
      "execution_count": null,
      "outputs": [
        {
          "output_type": "stream",
          "name": "stdout",
          "text": [
            "John Doe\n"
          ]
        }
      ]
    },
    {
      "cell_type": "markdown",
      "source": [
        "Q2. Write a code to find the length of the string \"Hello World\".\n",
        "\n",
        "Ans:"
      ],
      "metadata": {
        "id": "X7cEJSqPbTpQ"
      }
    },
    {
      "cell_type": "code",
      "source": [
        "string = \"Hello World\"\n",
        "length = len(string)\n",
        "print(length)\n"
      ],
      "metadata": {
        "colab": {
          "base_uri": "https://localhost:8080/"
        },
        "id": "hNY1as6DbfRc",
        "outputId": "5eb8c2db-7210-4a1e-f570-49c589091b6a"
      },
      "execution_count": null,
      "outputs": [
        {
          "output_type": "stream",
          "name": "stdout",
          "text": [
            "11\n"
          ]
        }
      ]
    },
    {
      "cell_type": "markdown",
      "source": [
        "Q3. Write a code to slice the first 3 characters from the string \"Python Programming\".\n",
        "\n",
        "Ans:"
      ],
      "metadata": {
        "id": "LHX9MsiVbrEc"
      }
    },
    {
      "cell_type": "code",
      "source": [
        "string = \"Python Programming\"\n",
        "sliced_string = string[:3]\n",
        "print(sliced_string)\n"
      ],
      "metadata": {
        "colab": {
          "base_uri": "https://localhost:8080/"
        },
        "id": "ipHWyCcNb04m",
        "outputId": "0e455112-4c28-4609-e3ac-389dfe9de475"
      },
      "execution_count": null,
      "outputs": [
        {
          "output_type": "stream",
          "name": "stdout",
          "text": [
            "Pyt\n"
          ]
        }
      ]
    },
    {
      "cell_type": "markdown",
      "source": [
        "Q4. Write a code to convert the string \"hello\" to uppercase.\n",
        "\n",
        "Ans:"
      ],
      "metadata": {
        "id": "SEDXN-BFcE_1"
      }
    },
    {
      "cell_type": "code",
      "source": [
        "string = \"hello\"\n",
        "uppercase = string.upper()\n",
        "print(uppercase)\n"
      ],
      "metadata": {
        "colab": {
          "base_uri": "https://localhost:8080/"
        },
        "id": "dnw1jjFCcKYw",
        "outputId": "f8ab6b02-eef3-4b91-a4f7-d4295f99a888"
      },
      "execution_count": null,
      "outputs": [
        {
          "output_type": "stream",
          "name": "stdout",
          "text": [
            "HELLO\n"
          ]
        }
      ]
    },
    {
      "cell_type": "markdown",
      "source": [
        "Q5. Write a code to replace the word \"apple\" with \"orange\" in the string \"I like apple\".\n",
        "\n",
        "Ans:"
      ],
      "metadata": {
        "id": "T_kZNHHdcaad"
      }
    },
    {
      "cell_type": "code",
      "source": [
        "string = \"I like apple\"\n",
        "replaced_string = string.replace(\"apple\", \"orange\")\n",
        "print(replaced_string)\n"
      ],
      "metadata": {
        "colab": {
          "base_uri": "https://localhost:8080/"
        },
        "id": "lY2ur0yjcizA",
        "outputId": "41d27b4e-07ee-408b-c4bd-f2f0c01d6795"
      },
      "execution_count": null,
      "outputs": [
        {
          "output_type": "stream",
          "name": "stdout",
          "text": [
            "I like orange\n"
          ]
        }
      ]
    },
    {
      "cell_type": "markdown",
      "source": [
        "Q6. Write a code to create a list with numbers 1 to 5 and print it.\n",
        "\n",
        "Ans:"
      ],
      "metadata": {
        "id": "yV1-rQvUc0Fm"
      }
    },
    {
      "cell_type": "code",
      "source": [
        "numbers = [1, 2, 3, 4, 5]\n",
        "print(numbers)\n"
      ],
      "metadata": {
        "colab": {
          "base_uri": "https://localhost:8080/"
        },
        "id": "Vh95FqxddOks",
        "outputId": "d8f88bc8-9384-4876-e791-a65914365fd7"
      },
      "execution_count": null,
      "outputs": [
        {
          "output_type": "stream",
          "name": "stdout",
          "text": [
            "[1, 2, 3, 4, 5]\n"
          ]
        }
      ]
    },
    {
      "cell_type": "markdown",
      "source": [
        "Q7. Write a code to append the number 10 to the list [1, 2, 3, 4).\n",
        "\n",
        "Ans:"
      ],
      "metadata": {
        "id": "mgCEa-pDdRBG"
      }
    },
    {
      "cell_type": "code",
      "source": [
        "numbers = [1, 2, 3, 4]\n",
        "numbers.append(10)\n",
        "print(numbers)\n"
      ],
      "metadata": {
        "colab": {
          "base_uri": "https://localhost:8080/"
        },
        "id": "4RKntJ3IdYk1",
        "outputId": "74330ab2-3361-4828-fbb7-2c9a6f3a567b"
      },
      "execution_count": null,
      "outputs": [
        {
          "output_type": "stream",
          "name": "stdout",
          "text": [
            "[1, 2, 3, 4, 10]\n"
          ]
        }
      ]
    },
    {
      "cell_type": "markdown",
      "source": [
        "Q8. Write a code to remove the number 3 from the list [1, 2, 3, 4, 5].\n",
        "\n",
        "Ans:"
      ],
      "metadata": {
        "id": "g1paqLb8deLw"
      }
    },
    {
      "cell_type": "code",
      "source": [
        "numbers = [1, 2, 3, 4, 5]\n",
        "numbers.remove(3)\n",
        "print(numbers)\n"
      ],
      "metadata": {
        "colab": {
          "base_uri": "https://localhost:8080/"
        },
        "id": "JIZg6l3udjJe",
        "outputId": "2ee0d6ed-a746-4dd6-ae65-452204e841f5"
      },
      "execution_count": null,
      "outputs": [
        {
          "output_type": "stream",
          "name": "stdout",
          "text": [
            "[1, 2, 4, 5]\n"
          ]
        }
      ]
    },
    {
      "cell_type": "markdown",
      "source": [
        "Q9. Write a code to access the second element in the list ['a', 'b', 'c', 'd'].\n",
        "\n",
        "Ans:"
      ],
      "metadata": {
        "id": "cfz-j0rqdpei"
      }
    },
    {
      "cell_type": "code",
      "source": [
        "letters = ['a', 'b', 'c', 'd']\n",
        "second_element = letters[1]\n",
        "print(second_element)\n"
      ],
      "metadata": {
        "colab": {
          "base_uri": "https://localhost:8080/"
        },
        "id": "BtzhxmYGduf6",
        "outputId": "b3b2407c-d765-43e9-d0f7-39a8f886f332"
      },
      "execution_count": null,
      "outputs": [
        {
          "output_type": "stream",
          "name": "stdout",
          "text": [
            "b\n"
          ]
        }
      ]
    },
    {
      "cell_type": "markdown",
      "source": [
        "Q10. Write a code to reverse the list 10, 20, 30, 40, 50).\n",
        "\n",
        "Ans:"
      ],
      "metadata": {
        "id": "pWKo6Wq2d5x-"
      }
    },
    {
      "cell_type": "code",
      "source": [
        "numbers = [10, 20, 30, 40, 50]\n",
        "reversed_list = numbers[::-1]\n",
        "print(reversed_list)\n"
      ],
      "metadata": {
        "colab": {
          "base_uri": "https://localhost:8080/"
        },
        "id": "VpFBD-S7eCE0",
        "outputId": "c265b652-89c4-4bae-f167-ce1878ef4fa2"
      },
      "execution_count": null,
      "outputs": [
        {
          "output_type": "stream",
          "name": "stdout",
          "text": [
            "[50, 40, 30, 20, 10]\n"
          ]
        }
      ]
    },
    {
      "cell_type": "markdown",
      "source": [
        "Q11. Write a code to create a tuple with the elements 10, 20, 30 and print it.\n",
        "\n",
        "Ans:"
      ],
      "metadata": {
        "id": "odjWedjleUP2"
      }
    },
    {
      "cell_type": "code",
      "source": [
        "my_tuple = (10, 20, 30)\n",
        "print(my_tuple)\n"
      ],
      "metadata": {
        "colab": {
          "base_uri": "https://localhost:8080/"
        },
        "id": "NTBNZa6WeYG4",
        "outputId": "f9d74202-6bb8-49b8-c602-7621ccf73c5c"
      },
      "execution_count": null,
      "outputs": [
        {
          "output_type": "stream",
          "name": "stdout",
          "text": [
            "(10, 20, 30)\n"
          ]
        }
      ]
    },
    {
      "cell_type": "markdown",
      "source": [
        "Q12. Write a code to access the first element of the tuple ('apple', banana', 'cherry').\n",
        "\n",
        "Ans:"
      ],
      "metadata": {
        "id": "AXyAqixKejVq"
      }
    },
    {
      "cell_type": "code",
      "source": [
        "fruits = ('apple', 'banana', 'cherry')\n",
        "print(fruits[0])\n"
      ],
      "metadata": {
        "colab": {
          "base_uri": "https://localhost:8080/"
        },
        "id": "FQ9EZRcIeuuU",
        "outputId": "743484eb-754e-4c0b-8324-48cb0c2f3c27"
      },
      "execution_count": null,
      "outputs": [
        {
          "output_type": "stream",
          "name": "stdout",
          "text": [
            "apple\n"
          ]
        }
      ]
    },
    {
      "cell_type": "markdown",
      "source": [
        "Q13. Write a code to count how many times the number 2 appears in the tuple (1, 2, 3, 2, 4, 2).\n",
        "\n",
        "Ans:"
      ],
      "metadata": {
        "id": "sAcH-RI5fFpf"
      }
    },
    {
      "cell_type": "code",
      "source": [
        "numbers = (1, 2, 3, 2, 4, 2)\n",
        "count_of_2 = numbers.count(2)\n",
        "print(count_of_2)\n"
      ],
      "metadata": {
        "colab": {
          "base_uri": "https://localhost:8080/"
        },
        "id": "ZEV3uEoZfLqu",
        "outputId": "993e315f-a095-4796-ca33-f13a8b8d8454"
      },
      "execution_count": null,
      "outputs": [
        {
          "output_type": "stream",
          "name": "stdout",
          "text": [
            "3\n"
          ]
        }
      ]
    },
    {
      "cell_type": "markdown",
      "source": [
        "Q14. Write a code to find the index of the element \"cat\" in the tuple ('dog', 'cat', 'rabbit').\n",
        "\n",
        "Ans:"
      ],
      "metadata": {
        "id": "KdK-5TAEfV86"
      }
    },
    {
      "cell_type": "code",
      "source": [
        "animals = ('dog', 'cat', 'rabbit')\n",
        "cat_index = animals.index('cat')\n",
        "print(cat_index)\n"
      ],
      "metadata": {
        "colab": {
          "base_uri": "https://localhost:8080/"
        },
        "id": "O7EDFt9ZfcGM",
        "outputId": "d7ffe236-526f-4994-f7fc-082274b203f6"
      },
      "execution_count": null,
      "outputs": [
        {
          "output_type": "stream",
          "name": "stdout",
          "text": [
            "1\n"
          ]
        }
      ]
    },
    {
      "cell_type": "markdown",
      "source": [
        "Q15. Write a code to check if the element \"banana\" is in the tuple ('apple, 'orange', banana').\n",
        "\n",
        "Ans:"
      ],
      "metadata": {
        "id": "otXDOdY-fmcX"
      }
    },
    {
      "cell_type": "code",
      "source": [
        "fruits = ('apple', 'orange', 'banana')\n",
        "is_banana_present = 'banana' in fruits\n",
        "print(is_banana_present)\n"
      ],
      "metadata": {
        "colab": {
          "base_uri": "https://localhost:8080/"
        },
        "id": "Yoqfnu2Cfx92",
        "outputId": "1ee29424-ff1f-4afd-8ff8-f0dcd44eb9f0"
      },
      "execution_count": null,
      "outputs": [
        {
          "output_type": "stream",
          "name": "stdout",
          "text": [
            "True\n"
          ]
        }
      ]
    },
    {
      "cell_type": "markdown",
      "source": [
        "Q16. Write a code to create a set with the elements 1, 2, 3, 4, 5 and print it.\n",
        "\n",
        "Ans:"
      ],
      "metadata": {
        "id": "LsO9oNNKf2vm"
      }
    },
    {
      "cell_type": "code",
      "source": [
        "my_set = {1, 2, 3, 4, 5}\n",
        "print(my_set)\n"
      ],
      "metadata": {
        "colab": {
          "base_uri": "https://localhost:8080/"
        },
        "id": "A_ydGzlgf7Ys",
        "outputId": "20b72ec5-8e29-40ab-e298-933e5dcbb8ea"
      },
      "execution_count": null,
      "outputs": [
        {
          "output_type": "stream",
          "name": "stdout",
          "text": [
            "{1, 2, 3, 4, 5}\n"
          ]
        }
      ]
    },
    {
      "cell_type": "markdown",
      "source": [
        "Q17. Write a code to add the element 6 to the set (1, 2, 3, 4).\n",
        "\n",
        "Ans:"
      ],
      "metadata": {
        "id": "jeQC2O0-gBp6"
      }
    },
    {
      "cell_type": "code",
      "source": [
        "my_set = {1, 2, 3, 4}\n",
        "my_set.add(6)\n",
        "print(my_set)\n"
      ],
      "metadata": {
        "colab": {
          "base_uri": "https://localhost:8080/"
        },
        "id": "MrT9hXu5gI4g",
        "outputId": "02c771ca-b29f-4bbc-ce12-4f8fb1e4f519"
      },
      "execution_count": null,
      "outputs": [
        {
          "output_type": "stream",
          "name": "stdout",
          "text": [
            "{1, 2, 3, 4, 6}\n"
          ]
        }
      ]
    },
    {
      "cell_type": "markdown",
      "source": [
        "Q18. Write a code to create a tuple with the elements 10, 20, 30 and print it.\n",
        "\n",
        "Ans: Same as Q11"
      ],
      "metadata": {
        "id": "vm-3I9CfgURS"
      }
    },
    {
      "cell_type": "markdown",
      "source": [
        "Q19. Write a code to access the first element of the tuple ('apple', 'banana', 'cherry').\n",
        "\n",
        "\n",
        "Ans: Same as Q12"
      ],
      "metadata": {
        "id": "NWTvwuk6j6xN"
      }
    },
    {
      "cell_type": "markdown",
      "source": [
        "Q20. Write a code to count how many times the number 2 appears in the tuple (1, 2, 3, 2, 4, 2).\n",
        "\n",
        "Ans: Same as Q13"
      ],
      "metadata": {
        "id": "xCpbXQMvkQnU"
      }
    },
    {
      "cell_type": "markdown",
      "source": [
        "Q21. Write a code to find the index of the element \"cat\" in the tuple ('dog', 'cat', 'rabbit').\n",
        "\n",
        "Ans: Same as Q14"
      ],
      "metadata": {
        "id": "hR5LMBojkjfK"
      }
    },
    {
      "cell_type": "markdown",
      "source": [
        "Q22. Write a code to check if the element \"banana\" is in the tuple ('apple', 'orange', 'banana').\n",
        "\n",
        "Ans:\n",
        "Same as Q15"
      ],
      "metadata": {
        "id": "PT2x3Frdkj2M"
      }
    },
    {
      "cell_type": "markdown",
      "source": [
        "Q23. Write a code to create a set with the elements 1, 2, 3, 4, 5 and print it.\n",
        "\n",
        "Ans:\n",
        "Same as Q16"
      ],
      "metadata": {
        "id": "PdHTN506kkRm"
      }
    },
    {
      "cell_type": "markdown",
      "source": [
        "Q24. Write a code to add the element 6 to the set {1, 2, 3, 4}.\n",
        "\n",
        "Ans:\n",
        "Same as Q17"
      ],
      "metadata": {
        "id": "CyYM9IOykljF"
      }
    }
  ]
}